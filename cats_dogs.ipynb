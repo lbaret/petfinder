{
  "nbformat": 4,
  "nbformat_minor": 0,
  "metadata": {
    "colab": {
      "name": "cats_dogs.ipynb",
      "version": "0.3.2",
      "provenance": [],
      "collapsed_sections": []
    },
    "kernelspec": {
      "name": "python3",
      "display_name": "Python 3"
    },
    "accelerator": "GPU"
  },
  "cells": [
    {
      "cell_type": "code",
      "metadata": {
        "id": "pung7XDsuNEh",
        "colab_type": "code",
        "outputId": "1b93a4b7-b8a2-4b43-d740-c7b482f680a2",
        "colab": {
          "base_uri": "https://localhost:8080/",
          "height": 34
        }
      },
      "source": [
        "from google.colab import drive\n",
        "drive.mount('/content/gdrive')\n",
        "\n",
        "import warnings\n",
        "warnings.filterwarnings(\"ignore\")"
      ],
      "execution_count": 0,
      "outputs": [
        {
          "output_type": "stream",
          "text": [
            "Drive already mounted at /content/gdrive; to attempt to forcibly remount, call drive.mount(\"/content/gdrive\", force_remount=True).\n"
          ],
          "name": "stdout"
        }
      ]
    },
    {
      "cell_type": "code",
      "metadata": {
        "id": "qzLWSBan93AS",
        "colab_type": "code",
        "colab": {}
      },
      "source": [
        "%%capture\n",
        "import torchvision\n",
        "from torchvision import transforms\n",
        "import torch.nn as nn\n",
        "import torch\n",
        "from torch.utils.data import DataLoader\n",
        "from torch.utils.data.sampler import SubsetRandomSampler\n",
        "from os import listdir\n",
        "from PIL import ImageOps, Image\n",
        "from glob import glob\n",
        "import numpy as np\n",
        "import matplotlib.pyplot as plt\n",
        "from sklearn.model_selection import train_test_split as splitTrainingData\n",
        "from sklearn.metrics import accuracy_score"
      ],
      "execution_count": 0,
      "outputs": []
    },
    {
      "cell_type": "code",
      "metadata": {
        "id": "WSCNIxHK5dpo",
        "colab_type": "code",
        "colab": {}
      },
      "source": [
        "# Fonction d'entrainement\n",
        "def training(model, train_dataloader, valid_dataloader=None, epoch=5, learning_rate=0.1, use_gpu=False):\n",
        "  \n",
        "  criterion = nn.CrossEntropyLoss()\n",
        "  optimizer = torch.optim.SGD(model.parameters(), lr=learning_rate)\n",
        "  \n",
        "  train_accu = []\n",
        "  train_losses = []\n",
        "  \n",
        "  if valid_dataloader:\n",
        "    val_accu = []\n",
        "    val_loss = []\n",
        "    \n",
        "  for i in range(epoch):\n",
        "    model.train()\n",
        "    \n",
        "    print('Starting epoch number {} on {} ...'.format(i+1, epoch))\n",
        "    \n",
        "    true = []\n",
        "    pred = []\n",
        "    train_loss = []\n",
        "    len_train = len(train_dataloader)\n",
        "    for ind, batch in enumerate(train_dataloader):\n",
        "      print('\\rBatch : {}/{}'.format(ind+1, len_train), end='')\n",
        "      inputs, targets = batch\n",
        "      \n",
        "      # Aller le GPU, fais ton taff\n",
        "      if use_gpu:\n",
        "        inputs = inputs.cuda()\n",
        "        targets = targets.cuda()\n",
        "      \n",
        "      optimizer.zero_grad()\n",
        "        \n",
        "      outputs = model(inputs)\n",
        "      \n",
        "      loss = criterion(outputs, targets)\n",
        "      loss.backward()\n",
        "      optimizer.step()\n",
        "      \n",
        "      predictions = outputs.max(dim=1)[1]\n",
        "      \n",
        "      train_loss.append(loss.item())\n",
        "      true.extend(targets.data.cpu().numpy().tolist())\n",
        "      pred.extend(predictions.data.cpu().numpy().tolist())\n",
        "    \n",
        "    accu_score = accuracy_score(true, pred) * 100\n",
        "    loss_score = sum(train_loss) / len(train_loss)\n",
        "    \n",
        "    print('\\nTrain score : Accuracy = {:.2f} - Loss = {:.2f}'.format(accu_score, loss_score), end='')\n",
        "    \n",
        "    \n",
        "    train_accu.append(accuracy_score(true, pred) * 100)\n",
        "    train_losses.append(loss_score)\n",
        "      \n",
        "    if valid_dataloader:\n",
        "      vaccu, vloss = validating(model, valid_dataloader, use_gpu)\n",
        "      print(' | Validation score : Accuracy = {:.2f} - Loss = {:.2f}'.format(vaccu, vloss))\n",
        "      val_accu.append(vaccu)\n",
        "      val_loss.append(vloss)\n",
        "    else:\n",
        "      print()\n",
        "  \n",
        "  if valid_dataloader:\n",
        "    return train_accu, train_losses, val_accu, val_loss\n",
        "  else:\n",
        "    return train_accu, train_loss\n",
        "  \n",
        "  return None, None\n",
        "  \n",
        "\n",
        "# Fonction de validation\n",
        "def validating(model, dataloader, use_gpu=False):\n",
        "  true =[]\n",
        "  pred = []\n",
        "  val_loss = []\n",
        "\n",
        "  criterion = nn.NLLLoss()\n",
        "  model.eval()\n",
        "\n",
        "  for batch in dataloader:\n",
        "\n",
        "    inputs, targets = batch\n",
        "\n",
        "    # On envoit les données au GPU pour le traitement\n",
        "    if use_gpu:\n",
        "      inputs = inputs.cuda()\n",
        "      targets = targets.cuda()\n",
        "    \n",
        "    outputs = model(inputs)\n",
        "\n",
        "    predictions = outputs.max(dim=1)[1]\n",
        "\n",
        "    val_loss.append(criterion(outputs, targets).item())\n",
        "    true.extend(targets.data.cpu().numpy().tolist())\n",
        "    pred.extend(predictions.data.cpu().numpy().tolist())\n",
        "  \n",
        "  accu_score = accuracy_score(true, pred) * 100\n",
        "  loss_score = sum(val_loss) / len(val_loss)\n",
        "  return accu_score, loss_score\n",
        "\n",
        "\n",
        "# Fonction de prédiction\n",
        "#def predict(model, sentence, vocab, max_len):\n",
        "#  tokens = word_tokenize(sentence)\n",
        "#  X_test_len = len(tokens)\n",
        "#  X_test = prepareData(tokens, vocab, max_len)\n",
        "#  X_test = torch.LongTensor(X_test).cuda()\n",
        "#  X_test_len = torch.FloatTensor(X_test_len).cuda()\n",
        "#  output = model(X_test, X_test_len)\n",
        "#  prediction = output.max(dim=1)[1]\n",
        "#  print(prediction)"
      ],
      "execution_count": 0,
      "outputs": []
    },
    {
      "cell_type": "code",
      "metadata": {
        "id": "--yWNVSEXyUo",
        "colab_type": "code",
        "colab": {}
      },
      "source": [
        "%%script false\n",
        "# Cellule pour éviter les doublons dans les positifs et négatifs.\n",
        "# Lancer la cellule 2 fois pour que le calcul se fasse\n",
        "\n",
        "files_pos = [f for f in listdir(\"/content/gdrive/My Drive/datas/pixabay/dogs/1\")]\n",
        "files_neg = [f for f in listdir(\"/content/gdrive/My Drive/datas/pixabay/dogs/0\")]\n",
        "\n",
        "cnt = 0\n",
        "for f in files_pos:\n",
        "  if f in files_neg:\n",
        "    cnt += 1\n",
        "    \n",
        "print(cnt)"
      ],
      "execution_count": 0,
      "outputs": []
    },
    {
      "cell_type": "markdown",
      "metadata": {
        "id": "emw2Tfr0VkDJ",
        "colab_type": "text"
      },
      "source": [
        "Dans ce cadre précis il faut ajouter du padding à chaque image. Pour se faire, nous devons rechercher la largeur max et la longueur max."
      ]
    },
    {
      "cell_type": "code",
      "metadata": {
        "id": "bX7-e7L-6Lsi",
        "colab_type": "code",
        "colab": {}
      },
      "source": [
        "class AddPadding:\n",
        "  def __init__(self, maxHeight, maxWidth):\n",
        "    self.maxHeight = maxHeight\n",
        "    self.maxWidth = maxWidth\n",
        "\n",
        "  def __call__(self, img):\n",
        "    # Utilisation du code https://discuss.pytorch.org/t/add-padding-to-images/24309/3\n",
        "    delta_width = self.maxWidth - img.size[0]\n",
        "    delta_height = self.maxHeight - img.size[1]\n",
        "    pad_width = delta_width //2\n",
        "    pad_height = delta_height //2\n",
        "    padding = (pad_width,pad_height,delta_width-pad_width,delta_height-pad_height)\n",
        "    return ImageOps.expand(img, padding)\n",
        "\n",
        "def create_dataloader(dataset, train_sampler, valid_sampler, b_size):\n",
        "    train_loader = DataLoader(\n",
        "        dataset,\n",
        "        batch_size = b_size,\n",
        "        num_workers = 0,\n",
        "        sampler = train_sampler\n",
        "    )\n",
        "    valid_loader = DataLoader(\n",
        "        dataset,\n",
        "        batch_size = 1,\n",
        "        num_workers = 0,\n",
        "        sampler = valid_sampler\n",
        "    )\n",
        "    return train_loader, valid_loader"
      ],
      "execution_count": 0,
      "outputs": []
    },
    {
      "cell_type": "code",
      "metadata": {
        "id": "3WsTrb1U9rgP",
        "colab_type": "code",
        "colab": {}
      },
      "source": [
        "# On charge les dataloaders (en supprimant les images précédentes pour libérer l'espace)\n",
        "img_path = \"/content/gdrive/My Drive/datas/pixabay/dogs/\"\n",
        "maxH = 340\n",
        "maxW = 1162\n",
        "all_transforms = transforms.Compose(\n",
        "    [\n",
        "     AddPadding(maxH, maxW),\n",
        "     transforms.ToTensor()\n",
        "    ]\n",
        ")\n",
        "dataset = torchvision.datasets.ImageFolder(\n",
        "    root=img_path,\n",
        "    transform=all_transforms\n",
        ")\n",
        "\n",
        "# Split en test et validation : https://stackoverflow.com/questions/50544730/how-do-i-split-a-custom-dataset-into-training-and-test-datasets\n",
        "validation_split = 0.1\n",
        "random_seed = 15\n",
        "batch_size = 64\n",
        "dataset_size = len(dataset)\n",
        "indices = list(range(dataset_size))\n",
        "split = int(np.floor(validation_split * dataset_size))\n",
        "np.random.seed(random_seed)\n",
        "np.random.shuffle(indices)\n",
        "train_indices, val_indices = indices[split:], indices[:split]\n",
        "\n",
        "train_sampler = SubsetRandomSampler(train_indices)\n",
        "valid_sampler = SubsetRandomSampler(val_indices)\n",
        "\n",
        "# Dataloader\n",
        "train_loader, valid_loader = create_dataloader(dataset, train_sampler, valid_sampler, batch_size)\n",
        "\n",
        "model = torchvision.models.resnet18(pretrained=True)\n",
        "\n",
        "# La classification se fait sur 2 classes uniquement\n",
        "model.fc = nn.Linear(512, 2)\n",
        "#print(model)"
      ],
      "execution_count": 0,
      "outputs": []
    },
    {
      "cell_type": "code",
      "metadata": {
        "id": "kVCvJlgqpdmF",
        "colab_type": "code",
        "outputId": "7dcafc97-2b36-4f67-d707-ea98171e0df6",
        "colab": {
          "base_uri": "https://localhost:8080/",
          "height": 527
        }
      },
      "source": [
        "train_accu, train_loss, val_accu, val_loss = training(model.cuda(), train_loader, valid_loader, epoch=10, use_gpu=True)"
      ],
      "execution_count": 0,
      "outputs": [
        {
          "output_type": "stream",
          "text": [
            "Starting epoch number 1 on 10 ...\n",
            "Batch : 291/291\n",
            "Train score : Accuracy = 69.27 - Loss = 0.87 | Validation score : Accuracy = 72.25 - Loss = -0.40\n",
            "Starting epoch number 2 on 10 ...\n",
            "Batch : 291/291\n",
            "Train score : Accuracy = 69.86 - Loss = 0.67 | Validation score : Accuracy = 72.06 - Loss = -0.10\n",
            "Starting epoch number 3 on 10 ...\n",
            "Batch : 291/291\n",
            "Train score : Accuracy = 71.42 - Loss = 0.64 | Validation score : Accuracy = 72.25 - Loss = -0.19\n",
            "Starting epoch number 4 on 10 ...\n",
            "Batch : 291/291\n",
            "Train score : Accuracy = 71.82 - Loss = 0.63 | Validation score : Accuracy = 72.25 - Loss = -0.51\n",
            "Starting epoch number 5 on 10 ...\n",
            "Batch : 291/291\n",
            "Train score : Accuracy = 72.43 - Loss = 0.61 | Validation score : Accuracy = 71.67 - Loss = -0.15\n",
            "Starting epoch number 6 on 10 ...\n",
            "Batch : 291/291\n",
            "Train score : Accuracy = 72.38 - Loss = 0.60 | Validation score : Accuracy = 72.25 - Loss = -0.44\n",
            "Starting epoch number 7 on 10 ...\n",
            "Batch : 291/291\n",
            "Train score : Accuracy = 72.41 - Loss = 0.59 | Validation score : Accuracy = 72.20 - Loss = -0.33\n",
            "Starting epoch number 8 on 10 ...\n",
            "Batch : 291/291\n",
            "Train score : Accuracy = 72.27 - Loss = 0.58 | Validation score : Accuracy = 72.20 - Loss = -0.81\n",
            "Starting epoch number 9 on 10 ...\n",
            "Batch : 291/291\n",
            "Train score : Accuracy = 72.37 - Loss = 0.58 | Validation score : Accuracy = 42.52 - Loss = 2.08\n",
            "Starting epoch number 10 on 10 ...\n",
            "Batch : 291/291\n",
            "Train score : Accuracy = 72.53 - Loss = 0.58 | Validation score : Accuracy = 28.28 - Loss = 0.18\n"
          ],
          "name": "stdout"
        }
      ]
    },
    {
      "cell_type": "code",
      "metadata": {
        "id": "BxzDyhN8icQO",
        "colab_type": "code",
        "outputId": "aa00d107-dc3f-43d4-f033-8c693a7aa33a",
        "colab": {
          "base_uri": "https://localhost:8080/",
          "height": 618
        }
      },
      "source": [
        "font_config = {\n",
        "    'family': 'serif',\n",
        "    'weight': 'normal',\n",
        "    'color': 'white',\n",
        "    'size': 20\n",
        "}\n",
        "\n",
        "axe_font = {\n",
        "    'family': 'serif',\n",
        "    'weight': 'normal',\n",
        "    'color': 'white',\n",
        "    'size': 10\n",
        "}\n",
        "\n",
        "epoch = len(train_accu)\n",
        "epochs = [x for x in range(1, epoch + 1)]\n",
        "\n",
        "fig, axes = plt.subplots(2, 1, figsize=(15, 10))\n",
        "\n",
        "axes[0].set_xlabel('Epochs', fontdict=font_config)\n",
        "axes[0].set_ylabel('Accuracy', fontdict=font_config)\n",
        "axes[0].tick_params(axis='both', labelcolor='white', color='white')\n",
        "axes[0].plot(epochs, train_accu, label='Train')\n",
        "axes[0].plot(epochs, val_accu, label='Validation')\n",
        "axes[0].legend()\n",
        "\n",
        "axes[1].set_xlabel('Epochs', fontdict=font_config)\n",
        "axes[1].set_ylabel('Loss', fontdict=font_config)\n",
        "axes[1].tick_params(axis='both', labelcolor='white', color='white')\n",
        "axes[1].plot(epochs, train_loss, label='Train')\n",
        "axes[1].plot(epochs, val_loss, label='Validation')\n",
        "axes[1].legend()\n",
        "\n",
        "plt.show()"
      ],
      "execution_count": 0,
      "outputs": [
        {
          "output_type": "display_data",
          "data": {
            "image/png": "[encoded data removed]",
            "text/plain": [
              "<Figure size 1080x720 with 2 Axes>"
            ]
          },
          "metadata": {
            "tags": []
          }
        }
      ]
    }
  ]
}